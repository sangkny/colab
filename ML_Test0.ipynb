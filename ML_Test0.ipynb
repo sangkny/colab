{
  "nbformat": 4,
  "nbformat_minor": 0,
  "metadata": {
    "colab": {
      "name": "ML_Test0.ipynb",
      "provenance": [],
      "private_outputs": true,
      "toc_visible": true,
      "mount_file_id": "1nlUhQNvVbX7HwLRsKosyEGEIW9cTmxDK",
      "authorship_tag": "ABX9TyOEtcOm4uxVbXeM83kG9Gku",
      "include_colab_link": true
    },
    "kernelspec": {
      "name": "python3",
      "display_name": "Python 3"
    },
    "accelerator": "GPU"
  },
  "cells": [
    {
      "cell_type": "markdown",
      "metadata": {
        "id": "view-in-github",
        "colab_type": "text"
      },
      "source": [
        "<a href=\"https://colab.research.google.com/github/sangkny/colab/blob/master/ML_Test0.ipynb\" target=\"_parent\"><img src=\"https://colab.research.google.com/assets/colab-badge.svg\" alt=\"Open In Colab\"/></a>"
      ]
    },
    {
      "cell_type": "markdown",
      "metadata": {
        "id": "p0cIDOsJV7Da",
        "colab_type": "text"
      },
      "source": [
        "# Collab을 활용한 간단한 예제 작성\n"
      ]
    },
    {
      "cell_type": "markdown",
      "metadata": {
        "id": "nHVO7pagWFVY",
        "colab_type": "text"
      },
      "source": [
        ""
      ]
    },
    {
      "cell_type": "code",
      "metadata": {
        "id": "MUWgkpywWHGS",
        "colab_type": "code",
        "colab": {}
      },
      "source": [
        "## 전반적인 서버 스택 확인"
      ],
      "execution_count": 0,
      "outputs": []
    },
    {
      "cell_type": "code",
      "metadata": {
        "id": "sv25tQnLWTJx",
        "colab_type": "code",
        "colab": {}
      },
      "source": [
        "from tensorflow.python.client import device_lib\n",
        "device_lib.list_local_devices()"
      ],
      "execution_count": 0,
      "outputs": []
    },
    {
      "cell_type": "code",
      "metadata": {
        "id": "bFHHzTI5YGFo",
        "colab_type": "code",
        "colab": {}
      },
      "source": [
        "import platform\n",
        "platform.platform()"
      ],
      "execution_count": 0,
      "outputs": []
    },
    {
      "cell_type": "code",
      "metadata": {
        "id": "Sb9FYAjjYW3E",
        "colab_type": "code",
        "colab": {}
      },
      "source": [
        "!cat /etc/issue.net"
      ],
      "execution_count": 0,
      "outputs": []
    },
    {
      "cell_type": "markdown",
      "metadata": {
        "id": "Bq2d5GOlY4o_",
        "colab_type": "text"
      },
      "source": [
        "# mark down Ctrl+M M\n",
        "# code Ctrl+M Y\n"
      ]
    },
    {
      "cell_type": "code",
      "metadata": {
        "id": "3a0Ox2THZNeI",
        "colab_type": "code",
        "colab": {}
      },
      "source": [
        "!cat /proc/meminfo\n",
        "!cat /proc/cpuinfo"
      ],
      "execution_count": 0,
      "outputs": []
    },
    {
      "cell_type": "code",
      "metadata": {
        "id": "jXvP7zOlSUyk",
        "colab_type": "code",
        "colab": {}
      },
      "source": [
        "!df -h\n"
      ],
      "execution_count": 0,
      "outputs": []
    },
    {
      "cell_type": "code",
      "metadata": {
        "id": "DdCr74J4Sfor",
        "colab_type": "code",
        "colab": {}
      },
      "source": [
        "!nvidia-smi"
      ],
      "execution_count": 0,
      "outputs": []
    },
    {
      "cell_type": "code",
      "metadata": {
        "id": "3cdyIqMrStJP",
        "colab_type": "code",
        "colab": {}
      },
      "source": [
        "!python --version"
      ],
      "execution_count": 0,
      "outputs": []
    },
    {
      "cell_type": "code",
      "metadata": {
        "id": "JocR42AYSzh0",
        "colab_type": "code",
        "colab": {}
      },
      "source": [
        "!ls"
      ],
      "execution_count": 0,
      "outputs": []
    },
    {
      "cell_type": "markdown",
      "metadata": {
        "id": "YVo1ZlyaS82N",
        "colab_type": "text"
      },
      "source": [
        ""
      ]
    },
    {
      "cell_type": "code",
      "metadata": {
        "id": "_4fE-xbBZPso",
        "colab_type": "code",
        "colab": {}
      },
      "source": [
        "%%writefile test.py\n",
        "print('hello world')"
      ],
      "execution_count": 0,
      "outputs": []
    },
    {
      "cell_type": "code",
      "metadata": {
        "id": "Q81ihyrvZtI4",
        "colab_type": "code",
        "colab": {}
      },
      "source": [
        "%run ./test.py"
      ],
      "execution_count": 0,
      "outputs": []
    },
    {
      "cell_type": "code",
      "metadata": {
        "id": "TDrkS0Z0Tewr",
        "colab_type": "code",
        "colab": {}
      },
      "source": [
        "import os\n",
        "print(os.getcwd())"
      ],
      "execution_count": 0,
      "outputs": []
    },
    {
      "cell_type": "code",
      "metadata": {
        "id": "KgTOr06YTuZl",
        "colab_type": "code",
        "colab": {}
      },
      "source": [
        "from google.colab import drive\n",
        "drive.mount('./MyDrive')"
      ],
      "execution_count": 0,
      "outputs": []
    },
    {
      "cell_type": "code",
      "metadata": {
        "id": "WWOTIGWQUTQ_",
        "colab_type": "code",
        "colab": {}
      },
      "source": [
        "cd MyDrive/My\\ Drive"
      ],
      "execution_count": 0,
      "outputs": []
    },
    {
      "cell_type": "code",
      "metadata": {
        "id": "Q0W_c-8oZ5Sc",
        "colab_type": "code",
        "colab": {}
      },
      "source": [
        "\n",
        "from google.colab import files\n",
        "files.download('test.py')"
      ],
      "execution_count": 0,
      "outputs": []
    },
    {
      "cell_type": "code",
      "metadata": {
        "id": "3vGHgvjIY_uv",
        "colab_type": "code",
        "colab": {}
      },
      "source": [
        ""
      ],
      "execution_count": 0,
      "outputs": []
    }
  ]
}