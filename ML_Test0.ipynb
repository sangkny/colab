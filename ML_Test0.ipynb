{
  "nbformat": 4,
  "nbformat_minor": 0,
  "metadata": {
    "colab": {
      "name": "ML_Test0.ipynb",
      "provenance": [],
      "private_outputs": true,
      "toc_visible": true,
      "mount_file_id": "1nlUhQNvVbX7HwLRsKosyEGEIW9cTmxDK",
      "authorship_tag": "ABX9TyN4kPmM6Xtvm5GXo/QO+nry",
      "include_colab_link": true
    },
    "kernelspec": {
      "name": "python3",
      "display_name": "Python 3"
    },
    "accelerator": "GPU"
  },
  "cells": [
    {
      "cell_type": "markdown",
      "metadata": {
        "id": "view-in-github",
        "colab_type": "text"
      },
      "source": [
        "<a href=\"https://colab.research.google.com/github/sangkny/colab/blob/master/ML_Test0.ipynb\" target=\"_parent\"><img src=\"https://colab.research.google.com/assets/colab-badge.svg\" alt=\"Open In Colab\"/></a>"
      ]
    },
    {
      "cell_type": "code",
      "metadata": {
        "id": "DaptN7FZSW2p",
        "colab_type": "code",
        "colab": {}
      },
      "source": [
        ""
      ],
      "execution_count": 0,
      "outputs": []
    },
    {
      "cell_type": "code",
      "metadata": {
        "id": "PqA1pm4dX5pu",
        "colab_type": "code",
        "colab": {}
      },
      "source": [
        ""
      ],
      "execution_count": 0,
      "outputs": []
    },
    {
      "cell_type": "markdown",
      "metadata": {
        "id": "p0cIDOsJV7Da",
        "colab_type": "text"
      },
      "source": [
        "# Collab을 활용한 간단한 예제 작성\n"
      ]
    },
    {
      "cell_type": "markdown",
      "metadata": {
        "id": "nHVO7pagWFVY",
        "colab_type": "text"
      },
      "source": [
        ""
      ]
    },
    {
      "cell_type": "code",
      "metadata": {
        "id": "MUWgkpywWHGS",
        "colab_type": "code",
        "colab": {}
      },
      "source": [
        "## 전반적인 서버 스택 확인\n"
      ],
      "execution_count": 0,
      "outputs": []
    },
    {
      "cell_type": "code",
      "metadata": {
        "id": "sv25tQnLWTJx",
        "colab_type": "code",
        "colab": {}
      },
      "source": [
        "from tensorflow.python.client import device_lib\n",
        "device_lib.list_local_devices()"
      ],
      "execution_count": 0,
      "outputs": []
    },
    {
      "cell_type": "code",
      "metadata": {
        "id": "bFHHzTI5YGFo",
        "colab_type": "code",
        "colab": {}
      },
      "source": [
        "import platform\n",
        "platform.platform()"
      ],
      "execution_count": 0,
      "outputs": []
    },
    {
      "cell_type": "code",
      "metadata": {
        "id": "Sb9FYAjjYW3E",
        "colab_type": "code",
        "colab": {}
      },
      "source": [
        "!cat /etc/issue.net"
      ],
      "execution_count": 0,
      "outputs": []
    },
    {
      "cell_type": "markdown",
      "metadata": {
        "id": "Bq2d5GOlY4o_",
        "colab_type": "text"
      },
      "source": [
        "# mark down Ctrl+M M\n",
        "# code Ctrl+M Y\n"
      ]
    },
    {
      "cell_type": "code",
      "metadata": {
        "id": "3a0Ox2THZNeI",
        "colab_type": "code",
        "colab": {}
      },
      "source": [
        ""
      ],
      "execution_count": 0,
      "outputs": []
    },
    {
      "cell_type": "code",
      "metadata": {
        "id": "_4fE-xbBZPso",
        "colab_type": "code",
        "colab": {}
      },
      "source": [
        "%%writefile test.py\n",
        "print('hello world')"
      ],
      "execution_count": 0,
      "outputs": []
    },
    {
      "cell_type": "code",
      "metadata": {
        "id": "Q81ihyrvZtI4",
        "colab_type": "code",
        "colab": {}
      },
      "source": [
        "%run test.py"
      ],
      "execution_count": 0,
      "outputs": []
    },
    {
      "cell_type": "code",
      "metadata": {
        "id": "Q0W_c-8oZ5Sc",
        "colab_type": "code",
        "colab": {}
      },
      "source": [
        "from google.colab"
      ],
      "execution_count": 0,
      "outputs": []
    }
  ]
}